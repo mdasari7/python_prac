{
 "cells": [
  {
   "cell_type": "markdown",
   "id": "432abf9b",
   "metadata": {},
   "source": [
    "# Data Types"
   ]
  },
  {
   "cell_type": "code",
   "execution_count": 2,
   "id": "a5509ff0",
   "metadata": {},
   "outputs": [],
   "source": [
    "# Numeric Types:\n",
    "\n",
    "# int: Represents integers (whole numbers) like 10, -5, or 42.\n",
    "# float: Represents floating-point numbers (numbers with decimals) like 3.14, -1.23e-5, or 1.79769e+308.\n",
    "# complex: Represents complex numbers with a real and imaginary part, written as real + imaginary*j where j represents the imaginary unit.\n",
    "\n",
    "# Sequence Types:\n",
    "\n",
    "# list: An ordered, mutable collection of items enclosed in square brackets []. Elements can be of different data types. Example: [1, \"hello\", 3.14].\n",
    "# tuple: An ordered, immutable collection of items enclosed in parentheses (). Elements cannot be changed after creation. Example: (10, \"world\", True).\n",
    "# range: Represents a sequence of numbers within a specified range. Often used in loops. Example: range(5) creates a sequence from 0 to 4 (excluding 5).\n",
    "\n",
    "# Set Types:\n",
    "\n",
    "# set: An unordered collection of unique elements enclosed in curly braces {}. Example: {1, \"apple\", 2.5}.\n",
    "# frozenset: An immutable version of a set. Once created, elements cannot be changed.\n",
    "\n",
    "\n",
    "# Mapping Type:\n",
    "\n",
    "# dict: An unordered collection of key-value pairs enclosed in curly braces {}. Keys must be unique and immutable (like strings or numbers), while values can be of any data type. Example: {\"name\": \"Alice\", \"age\": 30}.\n",
    "\n",
    "# Other Data Types:\n",
    "\n",
    "# str: Represents a sequence of characters (text) enclosed in single or double quotes. Example: \"This is a string\".\n",
    "# bool: Represents Boolean values, either True or False.\n",
    "# bytes: Represents a sequence of bytes (binary data) enclosed in b'' quotes. Example: b'\\x48\\x65\\x6c\\x6c\\x6f'.\n",
    "# bytearray: A mutable version of bytes.\n",
    "# memoryview: Allows accessing a memory buffer.\n",
    "# None: Represents the absence of a value.\n",
    "\n",
    "\n",
    "# You can use the type() function to check the data type of any variable in Python. Understanding these data types is essential for effectively storing, manipulating, and organizing data in your Python programs.\n",
    "# id() to get address of object"
   ]
  },
  {
   "cell_type": "code",
   "execution_count": 5,
   "id": "54614576",
   "metadata": {},
   "outputs": [],
   "source": [
    "a = 10  #base-10"
   ]
  },
  {
   "cell_type": "code",
   "execution_count": 4,
   "id": "a8b4ba33",
   "metadata": {},
   "outputs": [
    {
     "data": {
      "text/plain": [
       "int"
      ]
     },
     "execution_count": 4,
     "metadata": {},
     "output_type": "execute_result"
    }
   ],
   "source": [
    "type(a)"
   ]
  },
  {
   "cell_type": "code",
   "execution_count": 12,
   "id": "e8f2ebab",
   "metadata": {},
   "outputs": [
    {
     "ename": "SyntaxError",
     "evalue": "invalid digit '2' in binary literal (500051519.py, line 1)",
     "output_type": "error",
     "traceback": [
      "\u001b[0;36m  Cell \u001b[0;32mIn[12], line 1\u001b[0;36m\u001b[0m\n\u001b[0;31m    a= 0B123 # base-2 (invalid binary , should contain only 1 or 0)\u001b[0m\n\u001b[0m          ^\u001b[0m\n\u001b[0;31mSyntaxError\u001b[0m\u001b[0;31m:\u001b[0m invalid digit '2' in binary literal\n"
     ]
    }
   ],
   "source": [
    "a= 0B123 # base-2 (invalid binary , should contain only 1 or 0)\n",
    "print(a)"
   ]
  },
  {
   "cell_type": "code",
   "execution_count": 24,
   "id": "23e4885e",
   "metadata": {},
   "outputs": [
    {
     "name": "stdout",
     "output_type": "stream",
     "text": [
      "7\n"
     ]
    }
   ],
   "source": [
    "a=0b111 # base-2 (only 0 or 1 and starting with 0B or 0b)\n",
    "print(a)# (3∗2^0+2∗2^1+1∗2^2) i.e. 1*1 + 1*2 + 1*4 \n",
    "#                                = 1 + 2 + 4 \n",
    "# 7"
   ]
  },
  {
   "cell_type": "code",
   "execution_count": 25,
   "id": "efb6aca4",
   "metadata": {},
   "outputs": [
    {
     "name": "stdout",
     "output_type": "stream",
     "text": [
      "4\n"
     ]
    }
   ],
   "source": [
    "a=0B100\n",
    "print(a) # expected value is 4"
   ]
  },
  {
   "cell_type": "code",
   "execution_count": 26,
   "id": "abd8663e",
   "metadata": {},
   "outputs": [
    {
     "name": "stdout",
     "output_type": "stream",
     "text": [
      "83\n"
     ]
    }
   ],
   "source": [
    "a=0O123 # base-8 (allowed 0-7 and starting with 0o or 0O\n",
    "print(a) "
   ]
  },
  {
   "cell_type": "code",
   "execution_count": 27,
   "id": "d7a1cb52",
   "metadata": {},
   "outputs": [
    {
     "name": "stdout",
     "output_type": "stream",
     "text": [
      "83\n"
     ]
    }
   ],
   "source": [
    "octal_num = 0o123\n",
    "print(octal_num)\n"
   ]
  },
  {
   "cell_type": "code",
   "execution_count": 28,
   "id": "6f0dca4c",
   "metadata": {},
   "outputs": [
    {
     "name": "stdout",
     "output_type": "stream",
     "text": [
      "67\n"
     ]
    }
   ],
   "source": [
    "octal_num = 0o103  # (3∗8^0+0∗8^1+1∗8^2) i.e. 3*1 + 0*8 + 1*64\n",
    "print(octal_num)  # 3+ 0 + 64 = 67"
   ]
  },
  {
   "cell_type": "code",
   "execution_count": 29,
   "id": "a8bc68b2",
   "metadata": {},
   "outputs": [
    {
     "name": "stdout",
     "output_type": "stream",
     "text": [
      "0o103\n"
     ]
    }
   ],
   "source": [
    "print(oct(octal_num))"
   ]
  },
  {
   "cell_type": "code",
   "execution_count": 32,
   "id": "ec09d780",
   "metadata": {},
   "outputs": [
    {
     "name": "stdout",
     "output_type": "stream",
     "text": [
      "2595\n"
     ]
    }
   ],
   "source": [
    "hexas_num=0xA23 # base-16 (allowed 0-9,a-f(small or capital case) and starting with 0x or 0X\n",
    "print(hexas_num) # (3∗16^0+2∗16^1+10∗16^2) i.e. 3*1 + 2*16 + 10*256\n",
    "#                             = 3 + 32 + 2560\n",
    "#                             = 2595"
   ]
  },
  {
   "cell_type": "code",
   "execution_count": 33,
   "id": "706c2e59",
   "metadata": {},
   "outputs": [],
   "source": [
    "# Base Conversion\n",
    "# bin() -> convert any base to binary\n",
    "# oct() -> convert any base to octal\n",
    "# hex() -> convert any base to hexa decimal"
   ]
  },
  {
   "cell_type": "code",
   "execution_count": 34,
   "id": "41b9eda7",
   "metadata": {},
   "outputs": [
    {
     "data": {
      "text/plain": [
       "'0xa23'"
      ]
     },
     "execution_count": 34,
     "metadata": {},
     "output_type": "execute_result"
    }
   ],
   "source": [
    "hex(2595)"
   ]
  },
  {
   "cell_type": "code",
   "execution_count": 35,
   "id": "a5db8f9d",
   "metadata": {},
   "outputs": [
    {
     "data": {
      "text/plain": [
       "'0o103'"
      ]
     },
     "execution_count": 35,
     "metadata": {},
     "output_type": "execute_result"
    }
   ],
   "source": [
    "oct(67)"
   ]
  },
  {
   "cell_type": "code",
   "execution_count": 36,
   "id": "7b2a9c01",
   "metadata": {},
   "outputs": [
    {
     "data": {
      "text/plain": [
       "'0b111'"
      ]
     },
     "execution_count": 36,
     "metadata": {},
     "output_type": "execute_result"
    }
   ],
   "source": [
    "bin(7)"
   ]
  },
  {
   "cell_type": "code",
   "execution_count": 37,
   "id": "fb536e45",
   "metadata": {},
   "outputs": [
    {
     "name": "stdout",
     "output_type": "stream",
     "text": [
      "3.142857142857143\n"
     ]
    }
   ],
   "source": [
    "# float data type\n",
    "float_value=22/7\n",
    "print(float_value)"
   ]
  },
  {
   "cell_type": "code",
   "execution_count": 38,
   "id": "67d7fd04",
   "metadata": {},
   "outputs": [
    {
     "data": {
      "text/plain": [
       "float"
      ]
     },
     "execution_count": 38,
     "metadata": {},
     "output_type": "execute_result"
    }
   ],
   "source": [
    "type(float_value)"
   ]
  },
  {
   "cell_type": "code",
   "execution_count": 40,
   "id": "071aa9b6",
   "metadata": {},
   "outputs": [
    {
     "name": "stdout",
     "output_type": "stream",
     "text": [
      "1200.0\n"
     ]
    }
   ],
   "source": [
    "float_value_1=1.2e3 # 1.2 * 1000 = 1200.0\n",
    "print(float_value_1)"
   ]
  },
  {
   "cell_type": "code",
   "execution_count": 42,
   "id": "e78a064b",
   "metadata": {},
   "outputs": [
    {
     "name": "stdout",
     "output_type": "stream",
     "text": [
      "(3+2j)\n",
      "<class 'complex'>\n"
     ]
    }
   ],
   "source": [
    "# complex data type\n",
    "# a + bj (a = realpart, b is imaginary part)\n",
    "complex_value=3+2j\n",
    "print(complex_value)\n",
    "print(type(complex_value))"
   ]
  },
  {
   "cell_type": "code",
   "execution_count": 43,
   "id": "0ae3bdec",
   "metadata": {},
   "outputs": [
    {
     "name": "stdout",
     "output_type": "stream",
     "text": [
      "3.0\n",
      "2.0\n"
     ]
    }
   ],
   "source": [
    "print(complex_value.real)\n",
    "print(complex_value.imag)"
   ]
  },
  {
   "cell_type": "code",
   "execution_count": 44,
   "id": "254f1bfd",
   "metadata": {},
   "outputs": [
    {
     "name": "stdout",
     "output_type": "stream",
     "text": [
      "(5+2j)\n"
     ]
    }
   ],
   "source": [
    "complex_new_value = 2 + complex_value\n",
    "print(complex_new_value)"
   ]
  },
  {
   "cell_type": "code",
   "execution_count": 45,
   "id": "fb2b0b58",
   "metadata": {},
   "outputs": [
    {
     "name": "stdout",
     "output_type": "stream",
     "text": [
      "(5.5+2j)\n"
     ]
    }
   ],
   "source": [
    "complex_new_value = 2.5 + complex_value\n",
    "print(complex_new_value)"
   ]
  },
  {
   "cell_type": "code",
   "execution_count": 46,
   "id": "3a4ccd94",
   "metadata": {},
   "outputs": [
    {
     "name": "stdout",
     "output_type": "stream",
     "text": [
      "(3+4.5j)\n"
     ]
    }
   ],
   "source": [
    "complex_new_value = (0 + 2.5J) + complex_value\n",
    "print(complex_new_value)"
   ]
  },
  {
   "cell_type": "code",
   "execution_count": 47,
   "id": "c031a6c1",
   "metadata": {},
   "outputs": [
    {
     "name": "stdout",
     "output_type": "stream",
     "text": [
      "(3+4.5j)\n"
     ]
    }
   ],
   "source": [
    "complex_new_value = (0 + 2.5j) + complex_value\n",
    "print(complex_new_value)"
   ]
  },
  {
   "cell_type": "code",
   "execution_count": 55,
   "id": "d5815cb8",
   "metadata": {},
   "outputs": [
    {
     "name": "stdout",
     "output_type": "stream",
     "text": [
      "(3+4.5j)\n"
     ]
    }
   ],
   "source": [
    "complex_new_value = 2.5j + complex_value\n",
    "print(complex_new_value)"
   ]
  },
  {
   "cell_type": "code",
   "execution_count": 56,
   "id": "6dcafa2f",
   "metadata": {},
   "outputs": [
    {
     "name": "stdout",
     "output_type": "stream",
     "text": [
      "True\n"
     ]
    }
   ],
   "source": [
    "# bool data type\n",
    "bool_value = True\n",
    "print(bool_value)"
   ]
  },
  {
   "cell_type": "code",
   "execution_count": 57,
   "id": "3f69fee3",
   "metadata": {},
   "outputs": [
    {
     "name": "stdout",
     "output_type": "stream",
     "text": [
      "False\n",
      "<class 'bool'>\n"
     ]
    }
   ],
   "source": [
    "bool_value = False\n",
    "print(bool_value)\n",
    "print(type(bool_value))"
   ]
  },
  {
   "cell_type": "code",
   "execution_count": 58,
   "id": "f4567fd4",
   "metadata": {},
   "outputs": [
    {
     "name": "stdout",
     "output_type": "stream",
     "text": [
      "None\n",
      "<class 'NoneType'>\n"
     ]
    }
   ],
   "source": [
    "bool_value = None\n",
    "print(bool_value)\n",
    "print(type(bool_value))"
   ]
  },
  {
   "cell_type": "code",
   "execution_count": 59,
   "id": "2cb87b88",
   "metadata": {},
   "outputs": [
    {
     "name": "stdout",
     "output_type": "stream",
     "text": [
      "John\n",
      "<class 'str'>\n"
     ]
    }
   ],
   "source": [
    "# str (String) data type\n",
    "str_value = 'John'\n",
    "print(str_value)\n",
    "print(type(str_value))"
   ]
  },
  {
   "cell_type": "code",
   "execution_count": 60,
   "id": "d629755e",
   "metadata": {},
   "outputs": [
    {
     "name": "stdout",
     "output_type": "stream",
     "text": [
      "John Smith\n",
      "John\n",
      "                     Smith\n",
      "John\n",
      "                    Smith\n"
     ]
    }
   ],
   "source": [
    "# single quotes or triple double quotes or triple single quotes\n",
    "str_value = 'John Smith'\n",
    "print(str_value)\n",
    "\n",
    "\n",
    "str_value = '''John\n",
    "                     Smith'''\n",
    "print(str_value)\n",
    "\n",
    "\n",
    "str_value = \"\"\"John\n",
    "                    Smith\"\"\"\n",
    "                     \n",
    "print(str_value)"
   ]
  },
  {
   "cell_type": "code",
   "execution_count": 62,
   "id": "86eeee8f",
   "metadata": {},
   "outputs": [
    {
     "name": "stdout",
     "output_type": "stream",
     "text": [
      "h\n"
     ]
    }
   ],
   "source": [
    "# Slicing of Strings\n",
    "str_value = 'John Smith'\n",
    "print(str_value[-1]) # -1 is the last character - h"
   ]
  },
  {
   "cell_type": "code",
   "execution_count": 63,
   "id": "bd44239b",
   "metadata": {},
   "outputs": [
    {
     "name": "stdout",
     "output_type": "stream",
     "text": [
      "i\n"
     ]
    }
   ],
   "source": [
    "str_value = 'John Smith'\n",
    "print(str_value[-3])# -3 is the last 3rd character - i"
   ]
  },
  {
   "cell_type": "code",
   "execution_count": 65,
   "id": "8fd9d784",
   "metadata": {},
   "outputs": [
    {
     "ename": "IndexError",
     "evalue": "string index out of range",
     "output_type": "error",
     "traceback": [
      "\u001b[0;31m---------------------------------------------------------------------------\u001b[0m",
      "\u001b[0;31mIndexError\u001b[0m                                Traceback (most recent call last)",
      "Cell \u001b[0;32mIn[65], line 2\u001b[0m\n\u001b[1;32m      1\u001b[0m str_value \u001b[38;5;241m=\u001b[39m \u001b[38;5;124m'\u001b[39m\u001b[38;5;124mJohn Smith\u001b[39m\u001b[38;5;124m'\u001b[39m\n\u001b[0;32m----> 2\u001b[0m \u001b[38;5;28mprint\u001b[39m(str_value[\u001b[38;5;241m-\u001b[39m\u001b[38;5;241m30\u001b[39m])\n",
      "\u001b[0;31mIndexError\u001b[0m: string index out of range"
     ]
    }
   ],
   "source": [
    "str_value = 'John Smith'\n",
    "print(str_value[-30])# -30 is the last 30th character , which is invalid and return an error as index out of range"
   ]
  },
  {
   "cell_type": "code",
   "execution_count": 66,
   "id": "90595253",
   "metadata": {},
   "outputs": [
    {
     "ename": "IndexError",
     "evalue": "string index out of range",
     "output_type": "error",
     "traceback": [
      "\u001b[0;31m---------------------------------------------------------------------------\u001b[0m",
      "\u001b[0;31mIndexError\u001b[0m                                Traceback (most recent call last)",
      "Cell \u001b[0;32mIn[66], line 2\u001b[0m\n\u001b[1;32m      1\u001b[0m str_value \u001b[38;5;241m=\u001b[39m \u001b[38;5;124m'\u001b[39m\u001b[38;5;124mJohn Smith\u001b[39m\u001b[38;5;124m'\u001b[39m\n\u001b[0;32m----> 2\u001b[0m \u001b[38;5;28mprint\u001b[39m(str_value[\u001b[38;5;241m30\u001b[39m])\n",
      "\u001b[0;31mIndexError\u001b[0m: string index out of range"
     ]
    }
   ],
   "source": [
    "str_value = 'John Smith'\n",
    "print(str_value[30])# 30 th character , which is invalid and return an error as index out of range"
   ]
  },
  {
   "cell_type": "code",
   "execution_count": 68,
   "id": "d538f9c4",
   "metadata": {},
   "outputs": [
    {
     "name": "stdout",
     "output_type": "stream",
     "text": [
      "n\n"
     ]
    }
   ],
   "source": [
    "str_value = 'John Smith'\n",
    "print(str_value[3])# start with 0, 3rd position is n"
   ]
  },
  {
   "cell_type": "code",
   "execution_count": 69,
   "id": "e4d08d4a",
   "metadata": {},
   "outputs": [
    {
     "ename": "IndexError",
     "evalue": "string index out of range",
     "output_type": "error",
     "traceback": [
      "\u001b[0;31m---------------------------------------------------------------------------\u001b[0m",
      "\u001b[0;31mIndexError\u001b[0m                                Traceback (most recent call last)",
      "Cell \u001b[0;32mIn[69], line 2\u001b[0m\n\u001b[1;32m      1\u001b[0m str_value \u001b[38;5;241m=\u001b[39m \u001b[38;5;124m'\u001b[39m\u001b[38;5;124mJohn Smith\u001b[39m\u001b[38;5;124m'\u001b[39m\n\u001b[0;32m----> 2\u001b[0m \u001b[38;5;28mprint\u001b[39m(str_value[\u001b[38;5;241m31\u001b[39m])\n",
      "\u001b[0;31mIndexError\u001b[0m: string index out of range"
     ]
    }
   ],
   "source": [
    "str_value = 'John Smith'\n",
    "print(str_value[31])# start with 0, 31st position is invalid i.e. index out of range"
   ]
  },
  {
   "cell_type": "code",
   "execution_count": 71,
   "id": "7b3bd2af",
   "metadata": {},
   "outputs": [
    {
     "name": "stdout",
     "output_type": "stream",
     "text": [
      "oh\n"
     ]
    }
   ],
   "source": [
    "str_value = 'John Smith'\n",
    "print(str_value[1:3])# start with 0,  1 to 3-1 characters i.e. oh"
   ]
  },
  {
   "cell_type": "code",
   "execution_count": 73,
   "id": "0f2c11fe",
   "metadata": {},
   "outputs": [
    {
     "name": "stdout",
     "output_type": "stream",
     "text": [
      "ohn S\n"
     ]
    }
   ],
   "source": [
    "str_value = 'John Smith'\n",
    "print(str_value[1:6]) # ohn S"
   ]
  },
  {
   "cell_type": "code",
   "execution_count": 77,
   "id": "4dd0b648",
   "metadata": {},
   "outputs": [
    {
     "name": "stdout",
     "output_type": "stream",
     "text": [
      "ohn Smit\n"
     ]
    }
   ],
   "source": [
    "str_value = 'John Smith'\n",
    "print(str_value[1:-1]) # start with 0,  1 to n-1 characters i.e. ohn Smit"
   ]
  },
  {
   "cell_type": "code",
   "execution_count": 78,
   "id": "0c297e5e",
   "metadata": {},
   "outputs": [
    {
     "name": "stdout",
     "output_type": "stream",
     "text": [
      "\n"
     ]
    }
   ],
   "source": [
    "str_value = 'John Smith'\n",
    "print(str_value[-1:2]) # start with last character and then 2 character will always return empty"
   ]
  },
  {
   "cell_type": "code",
   "execution_count": 84,
   "id": "cca08913",
   "metadata": {},
   "outputs": [
    {
     "name": "stdout",
     "output_type": "stream",
     "text": [
      "Jo\n"
     ]
    }
   ],
   "source": [
    "str_value = 'John Smith'\n",
    "print(str_value[:2])  "
   ]
  },
  {
   "cell_type": "code",
   "execution_count": 85,
   "id": "d2ac8fe3",
   "metadata": {},
   "outputs": [
    {
     "name": "stdout",
     "output_type": "stream",
     "text": [
      "John Smi\n"
     ]
    }
   ],
   "source": [
    "str_value = 'John Smith'\n",
    "print(str_value[:-2]) # starting first character to minus last 2 characters"
   ]
  },
  {
   "cell_type": "code",
   "execution_count": 86,
   "id": "36988fa5",
   "metadata": {},
   "outputs": [
    {
     "name": "stdout",
     "output_type": "stream",
     "text": [
      "John Smith\n"
     ]
    }
   ],
   "source": [
    "str_value = 'John Smith'\n",
    "print(str_value[:30]) # start with 0 character and then 30 character, so outpout is John Smith"
   ]
  },
  {
   "cell_type": "code",
   "execution_count": 88,
   "id": "3cb6db4e",
   "metadata": {},
   "outputs": [
    {
     "name": "stdout",
     "output_type": "stream",
     "text": [
      "John Sm\n"
     ]
    }
   ],
   "source": [
    "str_value = 'John Smith'\n",
    "print(str_value[:-3]) # starting with 0 until minus -3 character"
   ]
  },
  {
   "cell_type": "code",
   "execution_count": 90,
   "id": "c8c61b62",
   "metadata": {},
   "outputs": [
    {
     "name": "stdout",
     "output_type": "stream",
     "text": [
      "output is \n"
     ]
    }
   ],
   "source": [
    "str_value = 'John Smith'\n",
    "print(\"output is \"+str_value[:-30]) # starting with 0 until minus -30 character, so it will print empty"
   ]
  },
  {
   "cell_type": "code",
   "execution_count": 91,
   "id": "e790bed5",
   "metadata": {},
   "outputs": [],
   "source": [
    "# Fundametal Date types (immutable except complex)\n",
    "#. int, float, complex, bool, str"
   ]
  },
  {
   "cell_type": "code",
   "execution_count": 92,
   "id": "f5a14fe7",
   "metadata": {},
   "outputs": [],
   "source": [
    "# Type Casting\n",
    "# int(), float(), complex(), bool(), str()"
   ]
  },
  {
   "cell_type": "code",
   "execution_count": 93,
   "id": "62f40b4d",
   "metadata": {},
   "outputs": [
    {
     "data": {
      "text/plain": [
       "123"
      ]
     },
     "execution_count": 93,
     "metadata": {},
     "output_type": "execute_result"
    }
   ],
   "source": [
    "int(123.456)"
   ]
  },
  {
   "cell_type": "code",
   "execution_count": 95,
   "id": "95183fdc",
   "metadata": {},
   "outputs": [
    {
     "ename": "TypeError",
     "evalue": "int() argument must be a string, a bytes-like object or a real number, not 'complex'",
     "output_type": "error",
     "traceback": [
      "\u001b[0;31m---------------------------------------------------------------------------\u001b[0m",
      "\u001b[0;31mTypeError\u001b[0m                                 Traceback (most recent call last)",
      "Cell \u001b[0;32mIn[95], line 1\u001b[0m\n\u001b[0;32m----> 1\u001b[0m \u001b[38;5;28mint\u001b[39m(\u001b[38;5;241m2\u001b[39m\u001b[38;5;241m+\u001b[39m\u001b[38;5;241m5\u001b[39mj)\n",
      "\u001b[0;31mTypeError\u001b[0m: int() argument must be a string, a bytes-like object or a real number, not 'complex'"
     ]
    }
   ],
   "source": [
    "int(2+5j) # gives error can't accept complext data type"
   ]
  },
  {
   "cell_type": "code",
   "execution_count": 96,
   "id": "b14250f7",
   "metadata": {},
   "outputs": [
    {
     "data": {
      "text/plain": [
       "1"
      ]
     },
     "execution_count": 96,
     "metadata": {},
     "output_type": "execute_result"
    }
   ],
   "source": [
    "int(True)"
   ]
  },
  {
   "cell_type": "code",
   "execution_count": 97,
   "id": "06e298df",
   "metadata": {},
   "outputs": [
    {
     "data": {
      "text/plain": [
       "0"
      ]
     },
     "execution_count": 97,
     "metadata": {},
     "output_type": "execute_result"
    }
   ],
   "source": [
    "int('0')"
   ]
  },
  {
   "cell_type": "code",
   "execution_count": 102,
   "id": "06477e8e",
   "metadata": {
    "scrolled": true
   },
   "outputs": [
    {
     "ename": "ValueError",
     "evalue": "invalid literal for int() with base 10: 'abc'",
     "output_type": "error",
     "traceback": [
      "\u001b[0;31m---------------------------------------------------------------------------\u001b[0m",
      "\u001b[0;31mValueError\u001b[0m                                Traceback (most recent call last)",
      "Cell \u001b[0;32mIn[102], line 1\u001b[0m\n\u001b[0;32m----> 1\u001b[0m \u001b[38;5;28mint\u001b[39m(\u001b[38;5;124m'\u001b[39m\u001b[38;5;124mabc\u001b[39m\u001b[38;5;124m'\u001b[39m)\n",
      "\u001b[0;31mValueError\u001b[0m: invalid literal for int() with base 10: 'abc'"
     ]
    }
   ],
   "source": [
    "int('abc')  # string can't be converted to integer"
   ]
  },
  {
   "cell_type": "code",
   "execution_count": 103,
   "id": "ef208515",
   "metadata": {},
   "outputs": [
    {
     "ename": "ValueError",
     "evalue": "invalid literal for int() with base 10: '126.11'",
     "output_type": "error",
     "traceback": [
      "\u001b[0;31m---------------------------------------------------------------------------\u001b[0m",
      "\u001b[0;31mValueError\u001b[0m                                Traceback (most recent call last)",
      "Cell \u001b[0;32mIn[103], line 1\u001b[0m\n\u001b[0;32m----> 1\u001b[0m \u001b[38;5;28mint\u001b[39m(\u001b[38;5;124m'\u001b[39m\u001b[38;5;124m126.11\u001b[39m\u001b[38;5;124m'\u001b[39m)\n",
      "\u001b[0;31mValueError\u001b[0m: invalid literal for int() with base 10: '126.11'"
     ]
    }
   ],
   "source": [
    "int('126.11') # should accept only with base10"
   ]
  },
  {
   "cell_type": "code",
   "execution_count": 104,
   "id": "1447507b",
   "metadata": {},
   "outputs": [
    {
     "ename": "ValueError",
     "evalue": "invalid literal for int() with base 10: '0b111'",
     "output_type": "error",
     "traceback": [
      "\u001b[0;31m---------------------------------------------------------------------------\u001b[0m",
      "\u001b[0;31mValueError\u001b[0m                                Traceback (most recent call last)",
      "Cell \u001b[0;32mIn[104], line 1\u001b[0m\n\u001b[0;32m----> 1\u001b[0m \u001b[38;5;28mint\u001b[39m(\u001b[38;5;124m'\u001b[39m\u001b[38;5;124m0b111\u001b[39m\u001b[38;5;124m'\u001b[39m)\n",
      "\u001b[0;31mValueError\u001b[0m: invalid literal for int() with base 10: '0b111'"
     ]
    }
   ],
   "source": [
    "int('0b111') # it base2 but int function can accept only base-10"
   ]
  },
  {
   "cell_type": "code",
   "execution_count": 105,
   "id": "f296e20a",
   "metadata": {},
   "outputs": [
    {
     "data": {
      "text/plain": [
       "164.11"
      ]
     },
     "execution_count": 105,
     "metadata": {},
     "output_type": "execute_result"
    }
   ],
   "source": [
    "float('164.11')"
   ]
  },
  {
   "cell_type": "code",
   "execution_count": 106,
   "id": "c325abd7",
   "metadata": {},
   "outputs": [
    {
     "ename": "TypeError",
     "evalue": "float() argument must be a string or a real number, not 'complex'",
     "output_type": "error",
     "traceback": [
      "\u001b[0;31m---------------------------------------------------------------------------\u001b[0m",
      "\u001b[0;31mTypeError\u001b[0m                                 Traceback (most recent call last)",
      "Cell \u001b[0;32mIn[106], line 1\u001b[0m\n\u001b[0;32m----> 1\u001b[0m \u001b[38;5;28mfloat\u001b[39m(\u001b[38;5;241m3\u001b[39m\u001b[38;5;241m+\u001b[39m\u001b[38;5;241m4\u001b[39mj)\n",
      "\u001b[0;31mTypeError\u001b[0m: float() argument must be a string or a real number, not 'complex'"
     ]
    }
   ],
   "source": [
    "float(3+4j) # error can't convert complext to float"
   ]
  },
  {
   "cell_type": "code",
   "execution_count": 107,
   "id": "7c3c61b5",
   "metadata": {},
   "outputs": [
    {
     "ename": "ValueError",
     "evalue": "could not convert string to float: '0x123'",
     "output_type": "error",
     "traceback": [
      "\u001b[0;31m---------------------------------------------------------------------------\u001b[0m",
      "\u001b[0;31mValueError\u001b[0m                                Traceback (most recent call last)",
      "Cell \u001b[0;32mIn[107], line 1\u001b[0m\n\u001b[0;32m----> 1\u001b[0m \u001b[38;5;28mfloat\u001b[39m(\u001b[38;5;124m'\u001b[39m\u001b[38;5;124m0x123\u001b[39m\u001b[38;5;124m'\u001b[39m)\n",
      "\u001b[0;31mValueError\u001b[0m: could not convert string to float: '0x123'"
     ]
    }
   ],
   "source": [
    "float('0x123') # could not convert string to float: '0x123'"
   ]
  },
  {
   "cell_type": "code",
   "execution_count": 109,
   "id": "00a912b7",
   "metadata": {},
   "outputs": [
    {
     "data": {
      "text/plain": [
       "(10+0j)"
      ]
     },
     "execution_count": 109,
     "metadata": {},
     "output_type": "execute_result"
    }
   ],
   "source": [
    "complex(10) # 10+0j"
   ]
  },
  {
   "cell_type": "code",
   "execution_count": 110,
   "id": "f82ee117",
   "metadata": {},
   "outputs": [
    {
     "data": {
      "text/plain": [
       "(15+0j)"
      ]
     },
     "execution_count": 110,
     "metadata": {},
     "output_type": "execute_result"
    }
   ],
   "source": [
    "complex(10+5)"
   ]
  },
  {
   "cell_type": "code",
   "execution_count": 111,
   "id": "c7872f9d",
   "metadata": {},
   "outputs": [
    {
     "data": {
      "text/plain": [
       "(1+0j)"
      ]
     },
     "execution_count": 111,
     "metadata": {},
     "output_type": "execute_result"
    }
   ],
   "source": [
    "complex(True)"
   ]
  },
  {
   "cell_type": "code",
   "execution_count": 112,
   "id": "160e4321",
   "metadata": {},
   "outputs": [
    {
     "data": {
      "text/plain": [
       "0j"
      ]
     },
     "execution_count": 112,
     "metadata": {},
     "output_type": "execute_result"
    }
   ],
   "source": [
    "complex(False)"
   ]
  },
  {
   "cell_type": "code",
   "execution_count": 113,
   "id": "e5a34077",
   "metadata": {},
   "outputs": [
    {
     "data": {
      "text/plain": [
       "1.0"
      ]
     },
     "execution_count": 113,
     "metadata": {},
     "output_type": "execute_result"
    }
   ],
   "source": [
    "float(True)"
   ]
  },
  {
   "cell_type": "code",
   "execution_count": 114,
   "id": "bfe34215",
   "metadata": {},
   "outputs": [
    {
     "data": {
      "text/plain": [
       "0.0"
      ]
     },
     "execution_count": 114,
     "metadata": {},
     "output_type": "execute_result"
    }
   ],
   "source": [
    "float(False)"
   ]
  },
  {
   "cell_type": "code",
   "execution_count": 115,
   "id": "d07a4b5f",
   "metadata": {},
   "outputs": [
    {
     "ename": "ValueError",
     "evalue": "complex() arg is a malformed string",
     "output_type": "error",
     "traceback": [
      "\u001b[0;31m---------------------------------------------------------------------------\u001b[0m",
      "\u001b[0;31mValueError\u001b[0m                                Traceback (most recent call last)",
      "Cell \u001b[0;32mIn[115], line 1\u001b[0m\n\u001b[0;32m----> 1\u001b[0m \u001b[38;5;28mcomplex\u001b[39m(\u001b[38;5;124m'\u001b[39m\u001b[38;5;124mabc\u001b[39m\u001b[38;5;124m'\u001b[39m)\n",
      "\u001b[0;31mValueError\u001b[0m: complex() arg is a malformed string"
     ]
    }
   ],
   "source": [
    "complex('abc') #complex() arg is a malformed string"
   ]
  },
  {
   "cell_type": "code",
   "execution_count": 117,
   "id": "e31d0151",
   "metadata": {},
   "outputs": [
    {
     "data": {
      "text/plain": [
       "False"
      ]
     },
     "execution_count": 117,
     "metadata": {},
     "output_type": "execute_result"
    }
   ],
   "source": [
    "bool(0)\n"
   ]
  },
  {
   "cell_type": "code",
   "execution_count": 118,
   "id": "cccf0aea",
   "metadata": {},
   "outputs": [
    {
     "data": {
      "text/plain": [
       "True"
      ]
     },
     "execution_count": 118,
     "metadata": {},
     "output_type": "execute_result"
    }
   ],
   "source": [
    "bool(10)\n"
   ]
  },
  {
   "cell_type": "code",
   "execution_count": 119,
   "id": "68b6b3d9",
   "metadata": {},
   "outputs": [
    {
     "data": {
      "text/plain": [
       "True"
      ]
     },
     "execution_count": 119,
     "metadata": {},
     "output_type": "execute_result"
    }
   ],
   "source": [
    "bool(1.5)\n"
   ]
  },
  {
   "cell_type": "code",
   "execution_count": 120,
   "id": "cf188015",
   "metadata": {},
   "outputs": [
    {
     "data": {
      "text/plain": [
       "False"
      ]
     },
     "execution_count": 120,
     "metadata": {},
     "output_type": "execute_result"
    }
   ],
   "source": [
    "bool(0.0)\n"
   ]
  },
  {
   "cell_type": "code",
   "execution_count": 121,
   "id": "51f44724",
   "metadata": {},
   "outputs": [
    {
     "data": {
      "text/plain": [
       "True"
      ]
     },
     "execution_count": 121,
     "metadata": {},
     "output_type": "execute_result"
    }
   ],
   "source": [
    "bool(10+2j)\n"
   ]
  },
  {
   "cell_type": "code",
   "execution_count": 122,
   "id": "ab3da04e",
   "metadata": {},
   "outputs": [
    {
     "data": {
      "text/plain": [
       "True"
      ]
     },
     "execution_count": 122,
     "metadata": {},
     "output_type": "execute_result"
    }
   ],
   "source": [
    "bool(2j)\n"
   ]
  },
  {
   "cell_type": "code",
   "execution_count": 123,
   "id": "8c502749",
   "metadata": {},
   "outputs": [
    {
     "data": {
      "text/plain": [
       "False"
      ]
     },
     "execution_count": 123,
     "metadata": {},
     "output_type": "execute_result"
    }
   ],
   "source": [
    "bool(\"\")\n"
   ]
  },
  {
   "cell_type": "code",
   "execution_count": 124,
   "id": "2fb24dd9",
   "metadata": {},
   "outputs": [
    {
     "data": {
      "text/plain": [
       "True"
      ]
     },
     "execution_count": 124,
     "metadata": {},
     "output_type": "execute_result"
    }
   ],
   "source": [
    "bool(\"True\")"
   ]
  },
  {
   "cell_type": "code",
   "execution_count": 126,
   "id": "837c03e1",
   "metadata": {},
   "outputs": [
    {
     "data": {
      "text/plain": [
       "False"
      ]
     },
     "execution_count": 126,
     "metadata": {},
     "output_type": "execute_result"
    }
   ],
   "source": [
    "a=2+3j\n",
    "b=2+3j\n",
    "a is b"
   ]
  },
  {
   "cell_type": "code",
   "execution_count": 135,
   "id": "bd9e6966",
   "metadata": {},
   "outputs": [
    {
     "name": "stdout",
     "output_type": "stream",
     "text": [
      "1\n",
      "2\n",
      "3\n",
      "4\n"
     ]
    }
   ],
   "source": [
    "# list data type\n",
    "list_data=[1,2,3,4]\n",
    "# insertion order is preserved, heterogenous objects are allowed,\n",
    "# duplicates are allowed\n",
    "for i in list_data :\n",
    "    print(i)"
   ]
  },
  {
   "cell_type": "code",
   "execution_count": 129,
   "id": "bd7faff4",
   "metadata": {},
   "outputs": [
    {
     "name": "stdout",
     "output_type": "stream",
     "text": [
      "(0, 1)\n",
      "(1, 2)\n",
      "(2, 3)\n",
      "(3, 4)\n"
     ]
    }
   ],
   "source": [
    "for i in enumerate(list_data):\n",
    "    print(i) # prints pair index, value"
   ]
  },
  {
   "cell_type": "code",
   "execution_count": 130,
   "id": "7025bae6",
   "metadata": {},
   "outputs": [
    {
     "data": {
      "text/plain": [
       "1"
      ]
     },
     "execution_count": 130,
     "metadata": {},
     "output_type": "execute_result"
    }
   ],
   "source": [
    "list_data[0]"
   ]
  },
  {
   "cell_type": "code",
   "execution_count": 131,
   "id": "b968b1a7",
   "metadata": {},
   "outputs": [
    {
     "data": {
      "text/plain": [
       "3"
      ]
     },
     "execution_count": 131,
     "metadata": {},
     "output_type": "execute_result"
    }
   ],
   "source": [
    "list_data[2]"
   ]
  },
  {
   "cell_type": "code",
   "execution_count": 132,
   "id": "d878658c",
   "metadata": {},
   "outputs": [
    {
     "data": {
      "text/plain": [
       "3"
      ]
     },
     "execution_count": 132,
     "metadata": {},
     "output_type": "execute_result"
    }
   ],
   "source": [
    "list_data.index(4)"
   ]
  },
  {
   "cell_type": "code",
   "execution_count": 133,
   "id": "0f2ab641",
   "metadata": {},
   "outputs": [
    {
     "data": {
      "text/plain": [
       "4"
      ]
     },
     "execution_count": 133,
     "metadata": {},
     "output_type": "execute_result"
    }
   ],
   "source": [
    "list_data[-1]"
   ]
  },
  {
   "cell_type": "code",
   "execution_count": 134,
   "id": "799b62e4",
   "metadata": {},
   "outputs": [
    {
     "data": {
      "text/plain": [
       "100"
      ]
     },
     "execution_count": 134,
     "metadata": {},
     "output_type": "execute_result"
    }
   ],
   "source": [
    "list_data[0]=100\n",
    "list_data[0]"
   ]
  },
  {
   "cell_type": "code",
   "execution_count": 136,
   "id": "197e60df",
   "metadata": {},
   "outputs": [
    {
     "data": {
      "text/plain": [
       "[2, 3]"
      ]
     },
     "execution_count": 136,
     "metadata": {},
     "output_type": "execute_result"
    }
   ],
   "source": [
    "list_data[1:3]"
   ]
  },
  {
   "cell_type": "code",
   "execution_count": 137,
   "id": "a8447dc8",
   "metadata": {},
   "outputs": [
    {
     "data": {
      "text/plain": [
       "[]"
      ]
     },
     "execution_count": 137,
     "metadata": {},
     "output_type": "execute_result"
    }
   ],
   "source": [
    "list_data[1:-3]"
   ]
  },
  {
   "cell_type": "code",
   "execution_count": 138,
   "id": "c1d77155",
   "metadata": {},
   "outputs": [
    {
     "data": {
      "text/plain": [
       "[2, 3]"
      ]
     },
     "execution_count": 138,
     "metadata": {},
     "output_type": "execute_result"
    }
   ],
   "source": [
    "list_data[1:-1]"
   ]
  },
  {
   "cell_type": "code",
   "execution_count": 139,
   "id": "fda52354",
   "metadata": {},
   "outputs": [
    {
     "data": {
      "text/plain": [
       "[1, 2, 3, 4, 1, 2, 3, 4]"
      ]
     },
     "execution_count": 139,
     "metadata": {},
     "output_type": "execute_result"
    }
   ],
   "source": [
    "list_data = list_data * 2\n",
    "list_data"
   ]
  },
  {
   "cell_type": "code",
   "execution_count": 140,
   "id": "7d39ae22",
   "metadata": {},
   "outputs": [
    {
     "data": {
      "text/plain": [
       "tuple"
      ]
     },
     "execution_count": 140,
     "metadata": {},
     "output_type": "execute_result"
    }
   ],
   "source": [
    "# tuple data type\n",
    "# it is same as list except that it is immutable i.e. we cannot change value\n",
    "tuple_data = (10,20,30,40)\n",
    "type(tuple_data)"
   ]
  },
  {
   "cell_type": "code",
   "execution_count": 142,
   "id": "e34dd8f1",
   "metadata": {},
   "outputs": [
    {
     "ename": "TypeError",
     "evalue": "'tuple' object does not support item assignment",
     "output_type": "error",
     "traceback": [
      "\u001b[0;31m---------------------------------------------------------------------------\u001b[0m",
      "\u001b[0;31mTypeError\u001b[0m                                 Traceback (most recent call last)",
      "Cell \u001b[0;32mIn[142], line 1\u001b[0m\n\u001b[0;32m----> 1\u001b[0m tuple_data[\u001b[38;5;241m0\u001b[39m]\u001b[38;5;241m=\u001b[39m\u001b[38;5;241m100\u001b[39m\n",
      "\u001b[0;31mTypeError\u001b[0m: 'tuple' object does not support item assignment"
     ]
    }
   ],
   "source": [
    "tuple_data[0]=100 # error doesn't support but the same supports for list because list is mutable"
   ]
  },
  {
   "cell_type": "code",
   "execution_count": null,
   "id": "3c3fb332",
   "metadata": {},
   "outputs": [],
   "source": [
    "# range Data Type \n",
    "# represents sequence of numbers and is immutable (not modifiable)"
   ]
  },
  {
   "cell_type": "code",
   "execution_count": 143,
   "id": "2746af37",
   "metadata": {},
   "outputs": [
    {
     "name": "stdout",
     "output_type": "stream",
     "text": [
      "range(0, 10)\n"
     ]
    }
   ],
   "source": [
    "range_data = range(10)\n",
    "print(range_data)"
   ]
  },
  {
   "cell_type": "code",
   "execution_count": 144,
   "id": "b3f85678",
   "metadata": {},
   "outputs": [
    {
     "name": "stdout",
     "output_type": "stream",
     "text": [
      "0\n",
      "1\n",
      "2\n",
      "3\n",
      "4\n",
      "5\n",
      "6\n",
      "7\n",
      "8\n",
      "9\n"
     ]
    }
   ],
   "source": [
    "for i in range_data:\n",
    "    print(i)"
   ]
  },
  {
   "cell_type": "code",
   "execution_count": 145,
   "id": "9be70235",
   "metadata": {},
   "outputs": [
    {
     "name": "stdout",
     "output_type": "stream",
     "text": [
      "10\n",
      "11\n",
      "12\n",
      "13\n",
      "14\n",
      "15\n",
      "16\n",
      "17\n",
      "18\n",
      "19\n"
     ]
    }
   ],
   "source": [
    "range_data = range(10,20)\n",
    "for i in range_data:\n",
    "    print(i)"
   ]
  },
  {
   "cell_type": "code",
   "execution_count": 146,
   "id": "2975cfa8",
   "metadata": {},
   "outputs": [
    {
     "name": "stdout",
     "output_type": "stream",
     "text": [
      "10\n",
      "13\n",
      "16\n",
      "19\n"
     ]
    }
   ],
   "source": [
    "range_data = range(10,20,3) # increment of 3\n",
    "for i in range_data:\n",
    "    print(i)"
   ]
  },
  {
   "cell_type": "code",
   "execution_count": 147,
   "id": "e048e4a2",
   "metadata": {},
   "outputs": [
    {
     "ename": "TypeError",
     "evalue": "'range' object does not support item assignment",
     "output_type": "error",
     "traceback": [
      "\u001b[0;31m---------------------------------------------------------------------------\u001b[0m",
      "\u001b[0;31mTypeError\u001b[0m                                 Traceback (most recent call last)",
      "Cell \u001b[0;32mIn[147], line 1\u001b[0m\n\u001b[0;32m----> 1\u001b[0m range_data[\u001b[38;5;241m0\u001b[39m] \u001b[38;5;241m=\u001b[39m \u001b[38;5;241m100\u001b[39m\n",
      "\u001b[0;31mTypeError\u001b[0m: 'range' object does not support item assignment"
     ]
    }
   ],
   "source": [
    "range_data[0] = 100 #error"
   ]
  },
  {
   "cell_type": "code",
   "execution_count": 2,
   "id": "17177a4f",
   "metadata": {},
   "outputs": [
    {
     "ename": "NameError",
     "evalue": "name 'enumeration' is not defined",
     "output_type": "error",
     "traceback": [
      "\u001b[0;31m---------------------------------------------------------------------------\u001b[0m",
      "\u001b[0;31mNameError\u001b[0m                                 Traceback (most recent call last)",
      "Cell \u001b[0;32mIn[2], line 6\u001b[0m\n\u001b[1;32m      1\u001b[0m \u001b[38;5;66;03m# set data type (mutable)\u001b[39;00m\n\u001b[1;32m      2\u001b[0m \u001b[38;5;66;03m# set is same as list but doesn't allow duplicates\u001b[39;00m\n\u001b[1;32m      3\u001b[0m \u001b[38;5;66;03m# insertion order is not preserved, duplicates are allowed\u001b[39;00m\n\u001b[1;32m      4\u001b[0m \u001b[38;5;66;03m# hetrogenous objects are allowed\u001b[39;00m\n\u001b[1;32m      5\u001b[0m s\u001b[38;5;241m=\u001b[39m {\u001b[38;5;241m10\u001b[39m,\u001b[38;5;241m20\u001b[39m,\u001b[38;5;241m30\u001b[39m,\u001b[38;5;241m40\u001b[39m,\u001b[38;5;241m50\u001b[39m}\n\u001b[0;32m----> 6\u001b[0m \u001b[38;5;28;01mfor\u001b[39;00m i \u001b[38;5;129;01min\u001b[39;00m enumeration(s):  \u001b[38;5;66;03m# doesn't support enumeration\u001b[39;00m\n\u001b[1;32m      7\u001b[0m     \u001b[38;5;28mprint\u001b[39m(s)\n",
      "\u001b[0;31mNameError\u001b[0m: name 'enumeration' is not defined"
     ]
    }
   ],
   "source": [
    "# set data type (mutable)\n",
    "# set is same as list but doesn't allow duplicates\n",
    "# insertion order is not preserved, duplicates are allowed\n",
    "# hetrogenous objects are allowed\n",
    "s= {10,20,30,40,50}\n",
    "for i in enumeration(s):  # doesn't support enumeration\n",
    "    print(s)"
   ]
  },
  {
   "cell_type": "code",
   "execution_count": 4,
   "id": "121fab42",
   "metadata": {},
   "outputs": [
    {
     "name": "stdout",
     "output_type": "stream",
     "text": [
      "50\n",
      "20\n",
      "40\n",
      "10\n",
      "30\n"
     ]
    }
   ],
   "source": [
    "for i in s:  \n",
    "    print(i)"
   ]
  },
  {
   "cell_type": "code",
   "execution_count": 5,
   "id": "9c5ecd44",
   "metadata": {},
   "outputs": [
    {
     "data": {
      "text/plain": [
       "[10, 20, 30, 40, 50]"
      ]
     },
     "execution_count": 5,
     "metadata": {},
     "output_type": "execute_result"
    }
   ],
   "source": [
    "sorted(s)"
   ]
  },
  {
   "cell_type": "code",
   "execution_count": 6,
   "id": "8da10243",
   "metadata": {},
   "outputs": [
    {
     "data": {
      "text/plain": [
       "[50, 40, 30, 20, 10]"
      ]
     },
     "execution_count": 6,
     "metadata": {},
     "output_type": "execute_result"
    }
   ],
   "source": [
    "sorted(s, reverse=True) # desc order"
   ]
  },
  {
   "cell_type": "code",
   "execution_count": 7,
   "id": "bb69ecad",
   "metadata": {},
   "outputs": [
    {
     "data": {
      "text/plain": [
       "5"
      ]
     },
     "execution_count": 7,
     "metadata": {},
     "output_type": "execute_result"
    }
   ],
   "source": [
    "len(s)"
   ]
  },
  {
   "cell_type": "code",
   "execution_count": 8,
   "id": "e3b7933d",
   "metadata": {},
   "outputs": [
    {
     "data": {
      "text/plain": [
       "set"
      ]
     },
     "execution_count": 8,
     "metadata": {},
     "output_type": "execute_result"
    }
   ],
   "source": [
    "type(s)"
   ]
  },
  {
   "cell_type": "code",
   "execution_count": 9,
   "id": "b3241f2b",
   "metadata": {},
   "outputs": [],
   "source": [
    "s= {10,20,30,40,50,10} # elimates duplicares and preserves in asc order"
   ]
  },
  {
   "cell_type": "code",
   "execution_count": 10,
   "id": "1fbd2ddf",
   "metadata": {},
   "outputs": [
    {
     "data": {
      "text/plain": [
       "{10, 20, 30, 40, 50}"
      ]
     },
     "execution_count": 10,
     "metadata": {},
     "output_type": "execute_result"
    }
   ],
   "source": [
    "s"
   ]
  },
  {
   "cell_type": "code",
   "execution_count": 11,
   "id": "9e9e5e5b",
   "metadata": {},
   "outputs": [],
   "source": [
    "s = {10,2+3j, 'nit'}"
   ]
  },
  {
   "cell_type": "code",
   "execution_count": 12,
   "id": "d822c3d4",
   "metadata": {},
   "outputs": [
    {
     "data": {
      "text/plain": [
       "{(2+3j), 10, 'nit'}"
      ]
     },
     "execution_count": 12,
     "metadata": {},
     "output_type": "execute_result"
    }
   ],
   "source": [
    "s"
   ]
  },
  {
   "cell_type": "code",
   "execution_count": 13,
   "id": "305ccf40",
   "metadata": {},
   "outputs": [],
   "source": [
    "s= {10,20,30,40,50,10} "
   ]
  },
  {
   "cell_type": "code",
   "execution_count": 15,
   "id": "87ad2767",
   "metadata": {},
   "outputs": [
    {
     "ename": "TypeError",
     "evalue": "'set' object is not subscriptable",
     "output_type": "error",
     "traceback": [
      "\u001b[0;31m---------------------------------------------------------------------------\u001b[0m",
      "\u001b[0;31mTypeError\u001b[0m                                 Traceback (most recent call last)",
      "Cell \u001b[0;32mIn[15], line 1\u001b[0m\n\u001b[0;32m----> 1\u001b[0m s[\u001b[38;5;241m0\u001b[39m]\n",
      "\u001b[0;31mTypeError\u001b[0m: 'set' object is not subscriptable"
     ]
    }
   ],
   "source": [
    "s[0] # index and slice is not allowed"
   ]
  },
  {
   "cell_type": "code",
   "execution_count": 16,
   "id": "dbcb538e",
   "metadata": {},
   "outputs": [
    {
     "data": {
      "text/plain": [
       "5"
      ]
     },
     "execution_count": 16,
     "metadata": {},
     "output_type": "execute_result"
    }
   ],
   "source": [
    "len(s)"
   ]
  },
  {
   "cell_type": "code",
   "execution_count": 17,
   "id": "9e87cd8d",
   "metadata": {},
   "outputs": [],
   "source": [
    "s.add(15)"
   ]
  },
  {
   "cell_type": "code",
   "execution_count": 18,
   "id": "2c6117b9",
   "metadata": {},
   "outputs": [
    {
     "data": {
      "text/plain": [
       "{10, 15, 20, 30, 40, 50}"
      ]
     },
     "execution_count": 18,
     "metadata": {},
     "output_type": "execute_result"
    }
   ],
   "source": [
    "s"
   ]
  },
  {
   "cell_type": "code",
   "execution_count": 19,
   "id": "4b6c7fbd",
   "metadata": {},
   "outputs": [
    {
     "ename": "AttributeError",
     "evalue": "'set' object has no attribute 'append'",
     "output_type": "error",
     "traceback": [
      "\u001b[0;31m---------------------------------------------------------------------------\u001b[0m",
      "\u001b[0;31mAttributeError\u001b[0m                            Traceback (most recent call last)",
      "Cell \u001b[0;32mIn[19], line 1\u001b[0m\n\u001b[0;32m----> 1\u001b[0m s\u001b[38;5;241m.\u001b[39mappend(\u001b[38;5;241m12\u001b[39m)\n\u001b[1;32m      2\u001b[0m s\n",
      "\u001b[0;31mAttributeError\u001b[0m: 'set' object has no attribute 'append'"
     ]
    }
   ],
   "source": [
    "s.append(12)\n",
    "s"
   ]
  },
  {
   "cell_type": "code",
   "execution_count": 20,
   "id": "7b06fc85",
   "metadata": {},
   "outputs": [
    {
     "ename": "NameError",
     "evalue": "name 'a' is not defined",
     "output_type": "error",
     "traceback": [
      "\u001b[0;31m---------------------------------------------------------------------------\u001b[0m",
      "\u001b[0;31mNameError\u001b[0m                                 Traceback (most recent call last)",
      "Cell \u001b[0;32mIn[20], line 1\u001b[0m\n\u001b[0;32m----> 1\u001b[0m s1\u001b[38;5;241m=\u001b[39m{a\u001b[38;5;241m+\u001b[39m\u001b[38;5;241m2\u001b[39mj,\u001b[38;5;241m3\u001b[39m,\u001b[38;5;241m2\u001b[39m,\u001b[38;5;124m'\u001b[39m\u001b[38;5;124mint\u001b[39m\u001b[38;5;124m'\u001b[39m}\n\u001b[1;32m      2\u001b[0m s3 \u001b[38;5;241m=\u001b[39m s \u001b[38;5;241m+\u001b[39m s1\n\u001b[1;32m      3\u001b[0m s3\n",
      "\u001b[0;31mNameError\u001b[0m: name 'a' is not defined"
     ]
    }
   ],
   "source": [
    "s1={a+2j,3,2,'int'}\n",
    "s3 = s + s1\n",
    "s3"
   ]
  },
  {
   "cell_type": "code",
   "execution_count": 21,
   "id": "28a4851d",
   "metadata": {},
   "outputs": [
    {
     "ename": "TypeError",
     "evalue": "unsupported operand type(s) for +: 'set' and 'set'",
     "output_type": "error",
     "traceback": [
      "\u001b[0;31m---------------------------------------------------------------------------\u001b[0m",
      "\u001b[0;31mTypeError\u001b[0m                                 Traceback (most recent call last)",
      "Cell \u001b[0;32mIn[21], line 2\u001b[0m\n\u001b[1;32m      1\u001b[0m s1\u001b[38;5;241m=\u001b[39m{\u001b[38;5;241m5\u001b[39m\u001b[38;5;241m+\u001b[39m\u001b[38;5;241m2\u001b[39mj,\u001b[38;5;241m3\u001b[39m,\u001b[38;5;241m2\u001b[39m,\u001b[38;5;124m'\u001b[39m\u001b[38;5;124mint\u001b[39m\u001b[38;5;124m'\u001b[39m}\n\u001b[0;32m----> 2\u001b[0m s3 \u001b[38;5;241m=\u001b[39m s \u001b[38;5;241m+\u001b[39m s1\n\u001b[1;32m      3\u001b[0m s3\n",
      "\u001b[0;31mTypeError\u001b[0m: unsupported operand type(s) for +: 'set' and 'set'"
     ]
    }
   ],
   "source": [
    "s1={5+2j,3,2,'int'}\n",
    "s3 = s + s1\n",
    "s3"
   ]
  },
  {
   "cell_type": "code",
   "execution_count": 22,
   "id": "ddd7f8e8",
   "metadata": {},
   "outputs": [
    {
     "ename": "TypeError",
     "evalue": "unhashable type: 'set'",
     "output_type": "error",
     "traceback": [
      "\u001b[0;31m---------------------------------------------------------------------------\u001b[0m",
      "\u001b[0;31mTypeError\u001b[0m                                 Traceback (most recent call last)",
      "Cell \u001b[0;32mIn[22], line 1\u001b[0m\n\u001b[0;32m----> 1\u001b[0m s3 \u001b[38;5;241m=\u001b[39m {s, s1}\n\u001b[1;32m      2\u001b[0m \u001b[38;5;28mprint\u001b[39m(s3)\n",
      "\u001b[0;31mTypeError\u001b[0m: unhashable type: 'set'"
     ]
    }
   ],
   "source": [
    "s3 = {s, s1}\n",
    "print(s3)"
   ]
  },
  {
   "cell_type": "code",
   "execution_count": 23,
   "id": "e964983c",
   "metadata": {},
   "outputs": [],
   "source": [
    "s3 = s.union(s1)"
   ]
  },
  {
   "cell_type": "code",
   "execution_count": 24,
   "id": "4a9a8107",
   "metadata": {},
   "outputs": [
    {
     "data": {
      "text/plain": [
       "{(5+2j), 10, 15, 2, 20, 3, 30, 40, 50, 'int'}"
      ]
     },
     "execution_count": 24,
     "metadata": {},
     "output_type": "execute_result"
    }
   ],
   "source": [
    "s3"
   ]
  },
  {
   "cell_type": "code",
   "execution_count": 25,
   "id": "fe9c50f2",
   "metadata": {},
   "outputs": [
    {
     "ename": "NameError",
     "evalue": "name 'enumeration' is not defined",
     "output_type": "error",
     "traceback": [
      "\u001b[0;31m---------------------------------------------------------------------------\u001b[0m",
      "\u001b[0;31mNameError\u001b[0m                                 Traceback (most recent call last)",
      "Cell \u001b[0;32mIn[25], line 1\u001b[0m\n\u001b[0;32m----> 1\u001b[0m \u001b[38;5;28;01mfor\u001b[39;00m i \u001b[38;5;129;01min\u001b[39;00m enumeration(s):  \u001b[38;5;66;03m# doesn't support enumeration\u001b[39;00m\n\u001b[1;32m      2\u001b[0m       \u001b[38;5;28mprint\u001b[39m(s)\n",
      "\u001b[0;31mNameError\u001b[0m: name 'enumeration' is not defined"
     ]
    }
   ],
   "source": [
    "for i in enumeration(s):  # doesn't support enumeration\n",
    "      print(s)"
   ]
  },
  {
   "cell_type": "code",
   "execution_count": null,
   "id": "9c6e2077",
   "metadata": {},
   "outputs": [],
   "source": [
    "for i in enumeration(s):  # doesn't support enumeration\n",
    "      print(s)"
   ]
  }
 ],
 "metadata": {
  "kernelspec": {
   "display_name": "Python 3 (ipykernel)",
   "language": "python",
   "name": "python3"
  },
  "language_info": {
   "codemirror_mode": {
    "name": "ipython",
    "version": 3
   },
   "file_extension": ".py",
   "mimetype": "text/x-python",
   "name": "python",
   "nbconvert_exporter": "python",
   "pygments_lexer": "ipython3",
   "version": "3.11.5"
  }
 },
 "nbformat": 4,
 "nbformat_minor": 5
}
