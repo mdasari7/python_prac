{
 "cells": [
  {
   "cell_type": "markdown",
   "id": "c4c89e86",
   "metadata": {},
   "source": [
    "# Introduction"
   ]
  },
  {
   "cell_type": "code",
   "execution_count": 10,
   "id": "e27986b4",
   "metadata": {},
   "outputs": [],
   "source": [
    "# Python was developedd by Guido Van Rossam in 1989 while working at National Research Insitute of Netherlands.\n",
    "\n",
    "# Advantages:\n",
    "\n",
    "# 1. Beginner-friendly: Python is widely known for its clear and concise syntax, making it easier to learn and understand, especially for beginners. Its code readability is often compared to reading plain English.\n",
    "# 2. Extensive libraries and frameworks: Python boasts a vast ecosystem of pre-written libraries and frameworks that cater to various functionalities. This saves developers significant time and effort by providing ready-made solutions for common tasks like data analysis, web development, machine learning, and scientific computing.\n",
    "# 3. Versatility: Python's versatility allows it to be applied across a wide range of domains, including web development, data science, scripting, automation, machine learning, and even game development.\n",
    "# 4. Large and active community: Python has a large and active community of developers around the world. This translates to ample online resources, tutorials, and forums for learning and getting help when needed.\n",
    "# 5. Rapid development: Python's simplicity and focus on readability enable rapid development, making it ideal for prototyping and quick iterations during the development process.\n",
    "\n",
    "#Disadvantages:\n",
    "\n",
    "# 1. Performance: Compared to compiled languages like C++ or Java, Python tends to be slower due to its interpreted nature. This can be a disadvantage for performance-critical applications.\n",
    "# 2. Global Interpreter Lock (GIL): Python's GIL limits multithreading capabilities to a single thread at a time, hindering its performance in scenarios requiring true parallel processing.\n",
    "# 3. Memory consumption: Python can have a higher memory footprint compared to some other languages. This is important to consider when working with large datasets or complex algorithms.\n",
    "# 4. Limited mobile and game development: While not impossible, Python isn't as widely used for mobile app development or game development compared to other languages with better native integration and performance.\n",
    "# 5. Strictness: Python's flexibility can sometimes be a double-edged sword. While it allows for rapid development, the lack of strict typing rules can potentially lead to code that is difficult to read and maintain, especially in larger projects."
   ]
  },
  {
   "cell_type": "markdown",
   "id": "f7be1fa1",
   "metadata": {},
   "source": [
    "# Identifiers"
   ]
  },
  {
   "cell_type": "code",
   "execution_count": 8,
   "id": "00379f3a",
   "metadata": {},
   "outputs": [],
   "source": [
    "# Allowed character in python are \n",
    "#    alphabets (lower or uppercase)\n",
    "#    Other than the underscore (_), identifiers cannot contain any special characters like !, @, #, $, etc.\n",
    "#    can't start with digit (The first character of an identifier must be a letter or an underscore. Identifiers cannot start with a digit.)\n",
    "#    case sensitive This means that name, Name, and NAME are considered three different identifiers\n",
    "#    no length restrictions - There is no limit on the length of an identifier in Python. However, it's generally recommended to keep them concise and descriptive for readability.\n",
    "#    can't be a keyword (Keywords are reserved words in Python that have specific meanings within the language. You cannot use them as your own variable names, function names, or any other identifier. Examples of keywords include if, else, for, while, def, and class.)\n",
    "\n",
    "# eg: some of the valid identifiers are as follows;\n",
    "#  _value, _temp1, cash, TOTAL"
   ]
  },
  {
   "cell_type": "code",
   "execution_count": 9,
   "id": "c2aa0e92",
   "metadata": {},
   "outputs": [],
   "source": [
    "# Additional Information on identifiers\n",
    "\n",
    "# 1. While not a strict rule, it's a good practice to start variable \n",
    "#    and function names with lowercase letters, and class names \n",
    "#    with uppercase letters. This improves code readability and \n",
    "#    consistency.\n",
    "\n",
    "# 2. Identifiers starting with a single leading underscore (_) \n",
    "#    are typically considered private within a module or class.\n",
    "\n",
    "# 3. Identifiers starting and ending with two underscores (__) are \n",
    "#    considered special names with language-defined meanings \n",
    "#    and should generally be avoided for custom identifiers."
   ]
  },
  {
   "cell_type": "code",
   "execution_count": null,
   "id": "684178a0",
   "metadata": {},
   "outputs": [],
   "source": []
  }
 ],
 "metadata": {
  "kernelspec": {
   "display_name": "Python 3 (ipykernel)",
   "language": "python",
   "name": "python3"
  },
  "language_info": {
   "codemirror_mode": {
    "name": "ipython",
    "version": 3
   },
   "file_extension": ".py",
   "mimetype": "text/x-python",
   "name": "python",
   "nbconvert_exporter": "python",
   "pygments_lexer": "ipython3",
   "version": "3.11.5"
  }
 },
 "nbformat": 4,
 "nbformat_minor": 5
}
